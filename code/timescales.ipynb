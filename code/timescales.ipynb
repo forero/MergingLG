{
 "metadata": {
  "name": ""
 },
 "nbformat": 3,
 "nbformat_minor": 0,
 "worksheets": [
  {
   "cells": [
    {
     "cell_type": "code",
     "collapsed": false,
     "input": [
      "%pylab inline"
     ],
     "language": "python",
     "metadata": {},
     "outputs": [
      {
       "output_type": "stream",
       "stream": "stdout",
       "text": [
        "Populating the interactive namespace from numpy and matplotlib\n"
       ]
      }
     ],
     "prompt_number": 1
    },
    {
     "cell_type": "code",
     "collapsed": false,
     "input": [
      "def merger_time_scale(m_ratio=1.0, hubble=1.0, eta=0.5, r_c=0.1, r_vir=1.0):\n",
      "    \"\"\"\n",
      "    Merger Time-scale for a halo merger. Reference: Boylan-Kolchin (2007)\n",
      "    \n",
      "    Inputs: \n",
      "        m_ratio: mass ratio (<1.0) of the merger. The original paper only treated m_ratio<0.1\n",
      "        hubble: hubble constant in units of Gyr^-1\n",
      "        eta: circularity parameter j/j_c(E), where j_c(E) is the \n",
      "            specific angular momentum of a circular orbit of energy E.\n",
      "            eta is related to excentricity as eta = (1-e^2)^1/2\n",
      "        r_c: circular radius of an orbit with energy E (in Mpc)\n",
      "        r_vir: virual radius (in Mpc)\n",
      "    \"\"\"\n",
      "    \n",
      "    t_df = 0.0216/hubble\n",
      "    t_df = t_df * m_ratio**(1.3)/(log(1.0+m_ratio))\n",
      "    t_df = t_df * exp(1.9*eta) * (r_c/r_vir)\n",
      "    return t_df"
     ],
     "language": "python",
     "metadata": {},
     "outputs": [],
     "prompt_number": 97
    },
    {
     "cell_type": "code",
     "collapsed": false,
     "input": [
      "G_GRAV = 4.38E-15 #Longitud en Mpc, masa en Msun y tiempo en Gyr.\n",
      "OVERDENSITY = 360\n",
      "KM_PER_SEC_TO_MPC_PER_GYR = 0.00105 # converts km/s into Mpc/Gyr \n",
      "OMEGA_BARYONS = 0.05\n",
      "OMEGA_DM = 0.27\n",
      "HUBBLE = 70.0\n",
      "HUBBLE_T = HUBBLE * KM_PER_SEC_TO_MPC_PER_GYR\n",
      "RHO_U = 7.5E10 # average density of the universe at z=0.0 in Msun/Mpc^3\n",
      "\n",
      "\n",
      "def func_rhalo(mhalo=1.0):\n",
      "    \"\"\"\n",
      "    Input: \n",
      "        mhalo: Virial mass in units of Msun\n",
      "    Output: \n",
      "        The virial radius in units of kpc\n",
      "    \"\"\"\n",
      "    part_a= mhalo/(OVERDENSITY * RHO_U * (4.0/3.0)*pi)\n",
      "    part_b = (part_a**(1.0/3.0))\n",
      "\n",
      "    return part_b*1000.0\n",
      "\n",
      "def func_sigma_halo(mhalo=1.0):\n",
      "    \"\"\"\n",
      "        Inputs:\n",
      "            mhalo: halo mass in Msun\n",
      "        Outputs:\n",
      "            sigma_halo: velocity dispersion inside the halo in km/s\n",
      "    \"\"\"\n",
      "    rhalo = func_rhalo(mhalo=mhalo)/1000.0\n",
      "    sigma_SIS = sqrt(G_GRAV*mhalo/rhalo)\n",
      "    sigma_SIS = sigma_SIS/KM_PER_SEC_TO_MPC_PER_GYR\n",
      "    return sigma_SIS"
     ],
     "language": "python",
     "metadata": {},
     "outputs": [],
     "prompt_number": 98
    },
    {
     "cell_type": "code",
     "collapsed": false,
     "input": [
      "func_sigma_halo(mhalo=3E12)"
     ],
     "language": "python",
     "metadata": {},
     "outputs": [
      {
       "metadata": {},
       "output_type": "pyout",
       "prompt_number": 99,
       "text": [
        "199.90802873488232"
       ]
      }
     ],
     "prompt_number": 99
    },
    {
     "cell_type": "code",
     "collapsed": false,
     "input": [
      "merger_time_scale(m_ratio=0.1, hubble=HUBBLE_T, eta=0.0, r_c=0.1, r_vir=1.0)"
     ],
     "language": "python",
     "metadata": {},
     "outputs": [
      {
       "metadata": {},
       "output_type": "pyout",
       "prompt_number": 100,
       "text": [
        "0.015453509491164806"
       ]
      }
     ],
     "prompt_number": 100
    },
    {
     "cell_type": "code",
     "collapsed": false,
     "input": [
      "halo_mass  = array([1.0E12, 2.0E12, 3.0E12])\n",
      "sat_mass = 1.0E11\n",
      "n_points = size(halo_mass)\n",
      "time_r_A = zeros(n_points)\n",
      "time_r_B = zeros(n_points)\n",
      "radius_r = zeros(n_points)"
     ],
     "language": "python",
     "metadata": {},
     "outputs": [],
     "prompt_number": 111
    },
    {
     "cell_type": "code",
     "collapsed": false,
     "input": [
      "for i in range(n_points):\n",
      "    radius_r[i] = func_rhalo(mhalo=halo_mass[i])\n",
      "    time_r_A[i] = merger_time_scale(m_ratio=sat_mass/halo_mass[i], hubble=HUBBLE_T,\\\n",
      "                                    eta=1.0, r_c=1.0 * radius_r[i], r_vir=radius_r[i])\n",
      "    time_r_B[i] = merger_time_scale(m_ratio=sat_mass/halo_mass[i], hubble=HUBBLE_T,\\\n",
      "                                    eta=0.6, r_c=1.0 * radius_r[i], r_vir=radius_r[i])"
     ],
     "language": "python",
     "metadata": {},
     "outputs": [],
     "prompt_number": 120
    },
    {
     "cell_type": "code",
     "collapsed": false,
     "input": [
      "plot(halo_mass, time_r_A)\n",
      "plot(halo_mass, time_r_B)"
     ],
     "language": "python",
     "metadata": {},
     "outputs": [
      {
       "metadata": {},
       "output_type": "pyout",
       "prompt_number": 121,
       "text": [
        "[<matplotlib.lines.Line2D at 0x103fd3350>]"
       ]
      },
      {
       "metadata": {},
       "output_type": "display_data",
       "png": "[encoded data removed]",
       "text": [
        "<matplotlib.figure.Figure at 0x103eda150>"
       ]
      }
     ],
     "prompt_number": 121
    },
    {
     "cell_type": "code",
     "collapsed": false,
     "input": [],
     "language": "python",
     "metadata": {},
     "outputs": []
    }
   ],
   "metadata": {}
  }
 ]
}